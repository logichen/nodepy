{
 "cells": [
  {
   "cell_type": "code",
   "execution_count": 2,
   "metadata": {},
   "outputs": [],
   "source": [
    "from matplotlib import pyplot as plt\n",
    "import numpy as np\n",
    "from nodepy import runge_kutta_method as rk\n",
    "from nodepy import stability_function\n",
    "from sympy import symbols, expand\n",
    "from scipy.special import laguerre\n",
    "from ipywidgets import interact, FloatSlider"
   ]
  },
  {
   "cell_type": "code",
   "execution_count": 3,
   "metadata": {},
   "outputs": [],
   "source": [
    "def restricted_pade(k,gamma=0):\n",
    "    coeffs = []\n",
    "    for m in range(k+1):\n",
    "        coeffs.append((-1)**k*laguerre(k).deriv(k-m)(1./gamma)*gamma**m)\n",
    "    numer = np.poly1d(coeffs[::-1])\n",
    "    z = symbols('z')\n",
    "    denom = (1-gamma*z)**k\n",
    "    coeffs = [expand(denom).coeff(z,n) for n in range(k+1)]\n",
    "    denom = np.poly1d(coeffs[::-1])\n",
    "    return numer, denom"
   ]
  },
  {
   "cell_type": "code",
   "execution_count": 4,
   "metadata": {},
   "outputs": [
    {
     "data": {
      "image/png": "[encoded data removed]",
      "text/plain": [
       "<Figure size 432x288 with 1 Axes>"
      ]
     },
     "metadata": {
      "needs_background": "light"
     },
     "output_type": "display_data"
    }
   ],
   "source": [
    "p, q = restricted_pade(3,gamma=1.06857902)\n",
    "stability_function.plot_order_star(p,q);"
   ]
  },
  {
   "cell_type": "markdown",
   "metadata": {},
   "source": [
    "Here we recreate and elaborate on Figure 6 of the paper \"Order Stars and stability theorems\" by Wanner, Hairer & Norsett."
   ]
  },
  {
   "cell_type": "code",
   "execution_count": 5,
   "metadata": {},
   "outputs": [
    {
     "data": {
      "text/plain": [
       "array([0.1288864 , 0.30253458, 1.06857902])"
      ]
     },
     "execution_count": 5,
     "metadata": {},
     "output_type": "execute_result"
    }
   ],
   "source": [
    "L4 = laguerre(4).deriv()\n",
    "1./L4.r"
   ]
  },
  {
   "cell_type": "code",
   "execution_count": 6,
   "metadata": {},
   "outputs": [
    {
     "data": {
      "application/vnd.jupyter.widget-view+json": {
       "model_id": "9c33b3361eb74020af9e4553ee025a7d",
       "version_major": 2,
       "version_minor": 0
      },
      "text/plain": [
       "interactive(children=(IntSlider(value=3, description='k', max=9, min=-3), FloatSlider(value=1.07, description=…"
      ]
     },
     "metadata": {},
     "output_type": "display_data"
    }
   ],
   "source": [
    "def hwnplot(k=3,gamma=1.):\n",
    "    p, q = restricted_pade(k,gamma)\n",
    "    stability_function.plot_order_star(p,q,bounds=[-4,4,-4,4]);\n",
    "    plt.show()\n",
    "    \n",
    "interact(hwnplot, gamma=FloatSlider(min=0.12, max=1.07, \n",
    "                                    step=0.004, value=1.07));"
   ]
  },
  {
   "cell_type": "code",
   "execution_count": null,
   "metadata": {},
   "outputs": [],
   "source": []
  }
 ],
 "metadata": {
  "kernelspec": {
   "display_name": "Python 3",
   "language": "python",
   "name": "python3"
  },
  "language_info": {
   "codemirror_mode": {
    "name": "ipython",
    "version": 3
   },
   "file_extension": ".py",
   "mimetype": "text/x-python",
   "name": "python",
   "nbconvert_exporter": "python",
   "pygments_lexer": "ipython3",
   "version": "3.9.7"
  },
  "toc": {
   "base_numbering": 1,
   "nav_menu": {},
   "number_sections": true,
   "sideBar": true,
   "skip_h1_title": false,
   "title_cell": "Table of Contents",
   "title_sidebar": "Contents",
   "toc_cell": false,
   "toc_position": {},
   "toc_section_display": true,
   "toc_window_display": false
  }
 },
 "nbformat": 4,
 "nbformat_minor": 2
}
